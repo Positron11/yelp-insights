{
 "cells": [
  {
   "cell_type": "markdown",
   "id": "afb7c487",
   "metadata": {},
   "source": [
    "# Data Preprocessing\n",
    "\n",
    "In this notebook, we'll preprocess the individual `.json` source files before loading them into the graph database. Our eventual goal is to have a dataset that we can run inference and queries on to identify hotspots and gaps in local markets.\n",
    "\n",
    "Defining some paths first:"
   ]
  },
  {
   "cell_type": "code",
   "execution_count": 2,
   "id": "feedec8f",
   "metadata": {},
   "outputs": [],
   "source": [
    "PREPROC_DIR = \"local_data/preproc\""
   ]
  },
  {
   "cell_type": "markdown",
   "id": "24ad9440",
   "metadata": {},
   "source": [
    "\n",
    "## Businesses\n",
    "\n",
    "Counting the total number of businesses:"
   ]
  },
  {
   "cell_type": "code",
   "execution_count": 3,
   "id": "9f77793d",
   "metadata": {},
   "outputs": [
    {
     "name": "stdout",
     "output_type": "stream",
     "text": [
      "150346\n"
     ]
    }
   ],
   "source": [
    "BUSINESS_FILE = \"local_data/raw/business.json\"\n",
    "\n",
    "count = 0\n",
    "\n",
    "with open(BUSINESS_FILE) as f:\n",
    "\tfor line in f: count += 1\n",
    "\n",
    "print(count)"
   ]
  },
  {
   "cell_type": "markdown",
   "id": "2e14011e",
   "metadata": {},
   "source": [
    "\n",
    "### Sanitization\n",
    "\n",
    "We'll sanitize by fixing `repr`'d attributes and converting category strings to proper JSON arrays. "
   ]
  },
  {
   "cell_type": "code",
   "execution_count": null,
   "id": "4bd8f8cf",
   "metadata": {},
   "outputs": [],
   "source": [
    "import json, ast\n",
    "\n",
    "with open(BUSINESS_FILE) as fin, open(f\"{PREPROC_DIR}/business.json\",\"w\") as fout:\n",
    "\tfor line in fin:\n",
    "\t\tb = json.loads(line)\n",
    "\n",
    "\t\t# parse full attributes object\n",
    "\t\tattrs = b.get(\"attributes\")\n",
    "\n",
    "\t\tif isinstance(attrs, dict):\n",
    "\t\t\tfor k, v in attrs.items():\n",
    "\t\t\t\tif isinstance(v, str):\n",
    "\t\t\t\t\t\n",
    "\t\t\t\t\t# fix python-repr'd attributes\n",
    "\t\t\t\t\ttry: b[\"attributes\"][k] = ast.literal_eval(v)\n",
    "\t\t\t\t\texcept Exception: pass\n",
    "\n",
    "\t\t# convert categories string to list\n",
    "\t\tcats = b.get(\"categories\")\n",
    "\t\tif isinstance(cats, str): b[\"categories\"] = [c.strip() for c in cats.split(',')]\n",
    "\n",
    "\t\tfout.write(json.dumps(b) + \"\\n\")"
   ]
  },
  {
   "cell_type": "markdown",
   "id": "d6d66b1a",
   "metadata": {},
   "source": [
    "## Users\n",
    "\n",
    "Counting the total number of users:"
   ]
  },
  {
   "cell_type": "code",
   "execution_count": 5,
   "id": "d89796d5",
   "metadata": {},
   "outputs": [
    {
     "name": "stdout",
     "output_type": "stream",
     "text": [
      "1987897\n"
     ]
    }
   ],
   "source": [
    "USER_FILE = \"local_data/raw/user.json\"\n",
    "\n",
    "count = 0\n",
    "\n",
    "with open(USER_FILE) as f:\n",
    "\tfor line in f: count += 1\n",
    "\n",
    "print(count)"
   ]
  },
  {
   "cell_type": "markdown",
   "id": "b1729a94",
   "metadata": {},
   "source": [
    "### Downsizing\n",
    "\n",
    "We've got far too many users to process in the short time span we have, so we'll need to figure out how to sample from the users in a way that satisfies our insight criteria. The idea here is this - we keep all the businesses in the dataset, and we select the top $n$% most relevant users for the richest possible dataset; finally, we'll filter reviews to only include those written by our selected users. This way, we preserve our primary vector - businesses - and downsize the overall database while preserving the links and relationships we need.\n",
    "\n",
    "We first create a users $\\to$ fans mapping:"
   ]
  },
  {
   "cell_type": "code",
   "execution_count": 6,
   "id": "cb7b222d",
   "metadata": {},
   "outputs": [
    {
     "data": {
      "text/plain": [
       "1987897"
      ]
     },
     "execution_count": 6,
     "metadata": {},
     "output_type": "execute_result"
    }
   ],
   "source": [
    "fans_map = {}\n",
    "\n",
    "with open(USER_FILE) as f:\n",
    "\tfor line in f:\n",
    "\t\tu = json.loads(line)\n",
    "\t\tfans_map[u[\"user_id\"]] = u.get(\"fans\", 0)\n",
    "\n",
    "# stability check - no. of fans = no. of users\n",
    "len(fans_map)"
   ]
  },
  {
   "cell_type": "markdown",
   "id": "842b7507",
   "metadata": {},
   "source": [
    "And next a business $\\leftarrow$ (reviewing) users map (we'll check for dangling reviews from deleted users):"
   ]
  },
  {
   "cell_type": "code",
   "execution_count": 7,
   "id": "821aa53c",
   "metadata": {},
   "outputs": [
    {
     "data": {
      "text/plain": [
       "150346"
      ]
     },
     "execution_count": 7,
     "metadata": {},
     "output_type": "execute_result"
    }
   ],
   "source": [
    "from collections import defaultdict\n",
    "\n",
    "REVIEW_FILE = \"local_data/raw/review.json\"\n",
    "\n",
    "reviewers_map = defaultdict(set)\n",
    "\n",
    "with open(REVIEW_FILE) as f:\n",
    "\tfor line in f:\n",
    "\t\tr = json.loads(line)\n",
    "\n",
    "\t\t# add user if exists in users.json (proxied by fans_map)\n",
    "\t\tif r[\"user_id\"] in fans_map: reviewers_map[r[\"business_id\"]].add(r[\"user_id\"])\n",
    "\n",
    "# stability check - no. of entries = no. of businesses\n",
    "len(reviewers_map)"
   ]
  },
  {
   "cell_type": "markdown",
   "id": "a319e612",
   "metadata": {},
   "source": [
    "Finally, get top $n$% of users for all businesses:"
   ]
  },
  {
   "cell_type": "code",
   "execution_count": 8,
   "id": "c4aacb17",
   "metadata": {},
   "outputs": [
    {
     "data": {
      "text/plain": [
       "164821"
      ]
     },
     "execution_count": 8,
     "metadata": {},
     "output_type": "execute_result"
    }
   ],
   "source": [
    "import math\n",
    "\n",
    "final_users = set()\n",
    "\n",
    "for b, users in reviewers_map.items():\n",
    "\tsorted_users = list(users)\n",
    "\n",
    "\t# sort users based on popularity\n",
    "\tsorted_users.sort(key=lambda uid: fans_map.get(uid, 0), reverse=True)\n",
    "\n",
    "\t# get top 10% and add to set\n",
    "\tfinal_users.update(sorted_users[:max(math.ceil(len(users) * 0.1), 3)])\n",
    "\n",
    "# count no. of chosen users\n",
    "len(final_users)"
   ]
  },
  {
   "cell_type": "markdown",
   "id": "11e25081",
   "metadata": {},
   "source": [
    "And now to create the preprocessed `.json` file itself:"
   ]
  },
  {
   "cell_type": "code",
   "execution_count": 12,
   "id": "0061b45f",
   "metadata": {},
   "outputs": [],
   "source": [
    "with open(USER_FILE) as fin, open(f\"{PREPROC_DIR}/user.json\",\"w\") as fout:\n",
    "\tfor line in fin:\n",
    "\t\tu = json.loads(line)\n",
    "\n",
    "\t\t# select user if in final selection\n",
    "\t\tif u[\"user_id\"] in final_users:\t\n",
    "\t\t\t\n",
    "\t\t\t# convert friends string to list\n",
    "\t\t\tfriends = u.get(\"friends\")\n",
    "\t\t\tif isinstance(friends, str): u[\"friends\"] = [f.strip() for f in friends.split(\",\")]\n",
    "\t\t\t\n",
    "\t\t\tfout.write(json.dumps(u) + \"\\n\")"
   ]
  },
  {
   "cell_type": "markdown",
   "id": "b4b6e75f",
   "metadata": {},
   "source": [
    "## Reviews\n",
    "\n",
    "Counting the total number of reviews:"
   ]
  },
  {
   "cell_type": "code",
   "execution_count": 11,
   "id": "c1d70e44",
   "metadata": {},
   "outputs": [
    {
     "name": "stdout",
     "output_type": "stream",
     "text": [
      "6990280\n"
     ]
    }
   ],
   "source": [
    "count = 0\n",
    "\n",
    "with open(REVIEW_FILE) as f:\n",
    "\tfor line in f: count += 1\n",
    "\n",
    "print(count)"
   ]
  },
  {
   "cell_type": "markdown",
   "id": "2c48dfd3",
   "metadata": {},
   "source": [
    "### Filtering\n",
    "\n",
    "We'll go ahead and filter reviews by those written by our selected users:"
   ]
  },
  {
   "cell_type": "code",
   "execution_count": null,
   "id": "2f87c4a5",
   "metadata": {},
   "outputs": [],
   "source": [
    "with open(REVIEW_FILE) as fin, open(f\"{PREPROC_DIR}/review.json\",\"w\") as fout:\n",
    "\tfor line in fin:\n",
    "\t\tr = json.loads(line)\n",
    "\n",
    "\t\t# select review if author in final selection\n",
    "\t\tif r[\"user_id\"] in final_users: fout.write(json.dumps(r) + \"\\n\")"
   ]
  },
  {
   "cell_type": "markdown",
   "id": "f297a509",
   "metadata": {},
   "source": [
    "## Tips\n",
    "\n",
    "Checking for size first:"
   ]
  },
  {
   "cell_type": "code",
   "execution_count": 9,
   "id": "c7c82dd4",
   "metadata": {},
   "outputs": [
    {
     "name": "stdout",
     "output_type": "stream",
     "text": [
      "908915\n"
     ]
    }
   ],
   "source": [
    "count = 0\n",
    "\n",
    "with open(\"local_data/raw/tip.json\") as f:\n",
    "\tfor line in f: count += 1\n",
    "\n",
    "print(count)"
   ]
  }
 ],
 "metadata": {
  "kernelspec": {
   "display_name": ".venv",
   "language": "python",
   "name": "python3"
  },
  "language_info": {
   "codemirror_mode": {
    "name": "ipython",
    "version": 3
   },
   "file_extension": ".py",
   "mimetype": "text/x-python",
   "name": "python",
   "nbconvert_exporter": "python",
   "pygments_lexer": "ipython3",
   "version": "3.13.3"
  }
 },
 "nbformat": 4,
 "nbformat_minor": 5
}
